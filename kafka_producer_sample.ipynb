{
 "cells": [
  {
   "cell_type": "code",
   "execution_count": 1,
   "metadata": {},
   "outputs": [],
   "source": [
    "#Importing required packages\n",
    "\n",
    "import sys\n",
    "import os\n",
    "\n",
    "from confluent_kafka import Producer\n",
    "\n",
    "#pip install confluent-kafka"
   ]
  },
  {
   "cell_type": "code",
   "execution_count": 2,
   "metadata": {},
   "outputs": [],
   "source": [
    "#Setting up required variables\n",
    "#https://customer.cloudkarafka.com/instance\n",
    "\n",
    "CLOUDKARAFKA_BROKERS=\"moped-01.srvs.cloudkafka.com:9094,moped-02.srvs.cloudkafka.com:9094,moped-03.srvs.cloudkafka.com:9094\"\n",
    "CLOUDKARAFKA_USERNAME='iekxvwn3'\n",
    "CLOUDKARAFKA_PASSWORD='xxxxxxxxx'\n",
    "CLOUDKARAFKA_PRODUCER_TOPIC=['iekxvwn3-default','iekxvwn3-topic1']"
   ]
  },
  {
   "cell_type": "code",
   "execution_count": 5,
   "metadata": {},
   "outputs": [],
   "source": [
    " #Setting up conif file \n",
    "    \n",
    "conf = {\n",
    "        'bootstrap.servers': CLOUDKARAFKA_BROKERS,\n",
    "        'group.id': \"%s-consumer\" % CLOUDKARAFKA_USERNAME,\n",
    "        'session.timeout.ms': 6000,\n",
    "        'default.topic.config': {'auto.offset.reset': 'smallest'},\n",
    "        'security.protocol': 'SASL_SSL',\n",
    "        'sasl.mechanisms': 'SCRAM-SHA-256',\n",
    "        'sasl.username': CLOUDKARAFKA_USERNAME,\n",
    "        'sasl.password': CLOUDKARAFKA_PASSWORD    \n",
    "        }\n"
   ]
  },
  {
   "cell_type": "code",
   "execution_count": 6,
   "metadata": {},
   "outputs": [],
   "source": [
    "#Intitializing kafka producer\n",
    "\n",
    "p = Producer(**conf)"
   ]
  },
  {
   "cell_type": "code",
   "execution_count": 7,
   "metadata": {},
   "outputs": [],
   "source": [
    "#Function for getting error or success message\n",
    "\n",
    "def delivery_callback(err, msg):\n",
    "        if err:\n",
    "            sys.stderr.write('%% Message failed delivery: %s\\n' % err)\n",
    "            print('Failed')\n",
    "        else:\n",
    "            sys.stderr.write('%% Message delivered to %s [%d]\\n' %\n",
    "                             (msg.topic(), msg.partition()))\n",
    "            print('Success')"
   ]
  },
  {
   "cell_type": "code",
   "execution_count": 8,
   "metadata": {},
   "outputs": [
    {
     "name": "stderr",
     "output_type": "stream",
     "text": [
      "% Waiting for 2 deliveries\n",
      "% Message delivered to iekxvwn3-topic1 [4]\n"
     ]
    },
    {
     "name": "stdout",
     "output_type": "stream",
     "text": [
      "Success\n",
      "Success\n"
     ]
    },
    {
     "name": "stderr",
     "output_type": "stream",
     "text": [
      "% Message delivered to iekxvwn3-default [0]\n"
     ]
    },
    {
     "data": {
      "text/plain": [
       "0"
      ]
     },
     "execution_count": 8,
     "metadata": {},
     "output_type": "execute_result"
    }
   ],
   "source": [
    "#Intitialzing topic\n",
    "\n",
    "topic=CLOUDKARAFKA_PRODUCER_TOPIC\n",
    "\n",
    "#Writing to topic one\n",
    "p.produce(topic[0], 'Sample Message In Default Topic!', callback=delivery_callback)\n",
    "\n",
    "#Writing to topic one\n",
    "\n",
    "p.produce(topic[1], 'Sample Message in test1 Topic!', callback=delivery_callback)\n",
    "\n",
    "sys.stderr.write('%% Waiting for %d deliveries\\n' % len(p))\n",
    "\n",
    "p.flush()"
   ]
  },
  {
   "cell_type": "code",
   "execution_count": null,
   "metadata": {},
   "outputs": [],
   "source": []
  }
 ],
 "metadata": {
  "kernelspec": {
   "display_name": "Python 3",
   "language": "python",
   "name": "python3"
  },
  "language_info": {
   "codemirror_mode": {
    "name": "ipython",
    "version": 3
   },
   "file_extension": ".py",
   "mimetype": "text/x-python",
   "name": "python",
   "nbconvert_exporter": "python",
   "pygments_lexer": "ipython3",
   "version": "3.7.3"
  }
 },
 "nbformat": 4,
 "nbformat_minor": 2
}
