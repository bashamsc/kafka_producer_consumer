{
 "cells": [
  {
   "cell_type": "code",
   "execution_count": 1,
   "metadata": {},
   "outputs": [],
   "source": [
    "#Importing required packages\n",
    "\n",
    "import sys\n",
    "import os\n",
    "\n",
    "from confluent_kafka import Consumer\n",
    "\n"
   ]
  },
  {
   "cell_type": "code",
   "execution_count": 2,
   "metadata": {},
   "outputs": [],
   "source": [
    "#Setting up required variables\n",
    "\n",
    "CLOUDKARAFKA_BROKERS=\"moped-01.srvs.cloudkafka.com:9094,moped-02.srvs.cloudkafka.com:9094,moped-03.srvs.cloudkafka.com:9094\"\n",
    "CLOUDKARAFKA_USERNAME='iekxvwn3'\n",
    "CLOUDKARAFKA_PASSWORD='QTlVDATmU7k8R1QFuY12g2tOTluDiDI1'\n",
    "CLOUDKARAFKA_CONSUMER_TOPIC='iekxvwn3-default,iekxvwn3-topic1'"
   ]
  },
  {
   "cell_type": "code",
   "execution_count": 4,
   "metadata": {},
   "outputs": [],
   "source": [
    " #Setting up conif file \n",
    "    \n",
    "conf = {\n",
    "        'bootstrap.servers': CLOUDKARAFKA_BROKERS,\n",
    "        'group.id': \"%s-consumer\" % CLOUDKARAFKA_USERNAME,\n",
    "        'session.timeout.ms': 6000,\n",
    "        'default.topic.config': {'auto.offset.reset': 'smallest'},\n",
    "        'security.protocol': 'SASL_SSL',\n",
    "        'sasl.mechanisms': 'SCRAM-SHA-256',\n",
    "        'sasl.username': CLOUDKARAFKA_USERNAME,\n",
    "        'sasl.password': CLOUDKARAFKA_PASSWORD    \n",
    "        }\n"
   ]
  },
  {
   "cell_type": "code",
   "execution_count": 5,
   "metadata": {},
   "outputs": [],
   "source": [
    "#Intitializing kafka consumer\n",
    "\n",
    "c = Consumer(**conf)\n"
   ]
  },
  {
   "cell_type": "code",
   "execution_count": 6,
   "metadata": {},
   "outputs": [],
   "source": [
    "#Function for getting error or success message\n",
    "\n",
    "def delivery_callback(err, msg):\n",
    "        if err:\n",
    "            sys.stderr.write('%% Message failed delivery: %s\\n' % err)\n",
    "            print('Failed')\n",
    "        else:\n",
    "            sys.stderr.write('%% Message delivered to %s [%d]\\n' %\n",
    "                             (msg.topic(), msg.partition()))\n",
    "            print('Success')"
   ]
  },
  {
   "cell_type": "code",
   "execution_count": 7,
   "metadata": {},
   "outputs": [],
   "source": [
    "#Intitialzing topic\n",
    "topics = CLOUDKARAFKA_CONSUMER_TOPIC.split(\",\")\n",
    "\n",
    "#Subscribing topics\n",
    "\n",
    "c.subscribe(topics)\n",
    "\n"
   ]
  },
  {
   "cell_type": "code",
   "execution_count": null,
   "metadata": {},
   "outputs": [
    {
     "name": "stderr",
     "output_type": "stream",
     "text": [
      "% iekxvwn3-default [0] at offset 1 with key None:\n",
      "% iekxvwn3-topic1 [4] at offset 0 with key None:\n"
     ]
    },
    {
     "name": "stdout",
     "output_type": "stream",
     "text": [
      "b'Sample Message In Default Topic!'\n",
      "b'Sample Message in test1 Topic!'\n"
     ]
    }
   ],
   "source": [
    "#Running while loop to read all messages from topics which are published\n",
    "\n",
    "while True:\n",
    "            msg = c.poll(timeout=1.0)\n",
    "            if msg is None:\n",
    "                continue\n",
    "            if msg.error():\n",
    "                # Error or event\n",
    "                if msg.error().code() == KafkaError._PARTITION_EOF:\n",
    "                    # End of partition event\n",
    "                    sys.stderr.write('%% %s [%d] reached end at offset %d\\n' %\n",
    "                                     (msg.topic(), msg.partition(), msg.offset()))\n",
    "                elif msg.error():\n",
    "                    # Error\n",
    "                    raise KafkaException(msg.error())\n",
    "            else:\n",
    "                # Proper message\n",
    "                sys.stderr.write('%% %s [%d] at offset %d with key %s:\\n' %\n",
    "                                 (msg.topic(), msg.partition(), msg.offset(),\n",
    "                                  str(msg.key())))\n",
    "                print(msg.value())\n",
    "\n"
   ]
  },
  {
   "cell_type": "code",
   "execution_count": null,
   "metadata": {},
   "outputs": [],
   "source": []
  }
 ],
 "metadata": {
  "kernelspec": {
   "display_name": "Python 3",
   "language": "python",
   "name": "python3"
  },
  "language_info": {
   "codemirror_mode": {
    "name": "ipython",
    "version": 3
   },
   "file_extension": ".py",
   "mimetype": "text/x-python",
   "name": "python",
   "nbconvert_exporter": "python",
   "pygments_lexer": "ipython3",
   "version": "3.7.3"
  }
 },
 "nbformat": 4,
 "nbformat_minor": 2
}
